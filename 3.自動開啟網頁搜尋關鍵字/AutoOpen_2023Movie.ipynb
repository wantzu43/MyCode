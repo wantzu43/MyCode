{
 "cells": [
  {
   "cell_type": "code",
   "execution_count": 4,
   "id": "ffe702e1",
   "metadata": {},
   "outputs": [],
   "source": [
    "from selenium import webdriver\n",
    "from selenium.webdriver.common.by import By\n",
    "from selenium.webdriver.common.keys import Keys\n",
    "url = 'http://www.google.com'\n",
    "driver = webdriver.Chrome('chromedriver')\n",
    "driver.get(url)\n",
    "\n",
    "search = driver.find_element(By.NAME,'q')\n",
    "search.send_keys(\"2023必看電影\")\n",
    "\n",
    "btn = driver.find_element(By.NAME,'btnK')\n",
    "btn.click()\n"
   ]
  },
  {
   "cell_type": "code",
   "execution_count": 2,
   "id": "9c807518",
   "metadata": {},
   "outputs": [],
   "source": [
    "from selenium import webdriver\n",
    "from selenium.webdriver.common.by import By\n",
    "from selenium.webdriver.common.keys import Keys\n",
    "url = 'http://www.google.com'\n",
    "url2 = 'https://login.yahoo.com/'\n",
    "driver = webdriver.Chrome('chromedriver')\n",
    "driver.implicitly_wait(10)\n",
    "driver.get(url2)\n",
    "\n",
    "#login-username\n",
    "email = driver.find_element(By.NAME,'username')\n",
    "email.send_keys(\"test123\")\n",
    "\n",
    "sginin = driver.find_element(By.NAME,'signin')\n",
    "sginin.click()\n",
    "\n",
    "password = driver.find_element(By.NAME,'password')\n",
    "password.send_keys(\"\")\n",
    "\n",
    "sginin2 = driver.find_element(By.ID,'login-signin')\n",
    "sginin2.click()"
   ]
  }
 ],
 "metadata": {
  "kernelspec": {
   "display_name": "Python 3 (ipykernel)",
   "language": "python",
   "name": "python3"
  },
  "language_info": {
   "codemirror_mode": {
    "name": "ipython",
    "version": 3
   },
   "file_extension": ".py",
   "mimetype": "text/x-python",
   "name": "python",
   "nbconvert_exporter": "python",
   "pygments_lexer": "ipython3",
   "version": "3.9.13"
  }
 },
 "nbformat": 4,
 "nbformat_minor": 5
}
