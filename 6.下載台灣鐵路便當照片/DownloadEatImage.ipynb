{
 "cells": [
  {
   "cell_type": "code",
   "execution_count": 18,
   "id": "a50e52e3",
   "metadata": {},
   "outputs": [
    {
     "name": "stdout",
     "output_type": "stream",
     "text": [
      "下載便當照片中....\n",
      "便當照片張數共: 5 張\n",
      "https://tip-tr4cdn.cdn.hinet.net/tra-tip-web/tip/img/d0a3ccef-d482-4d61-b900-7b51122980d5/207x155\n",
      "https://tip-tr4cdn.cdn.hinet.net/tra-tip-web/tip/img/80975657-ca45-4be4-9cf6-15f21d363726/207x155\n",
      "https://tip-tr4cdn.cdn.hinet.net/tra-tip-web/tip/img/db96f496-3112-4dca-a66c-4bb641e0922a/207x155\n",
      "https://tip-tr4cdn.cdn.hinet.net/tra-tip-web/tip/img/7f9f466b-e1ba-4505-a7a8-a80a62933385/207x155\n",
      "https://tip-tr4cdn.cdn.hinet.net/tra-tip-web/tip/img/f2e78814-fbcf-43d4-8952-bb6a7b3346a3/207x155\n",
      "=====台中鐵路便當價目表=====\n",
      "\n",
      "便當名稱:  排骨便當（紙盒）  便當價格:  80\n",
      "**************************************************\n",
      "便當名稱:  素食便當（紙盒）  便當價格:  80\n",
      "**************************************************\n",
      "便當名稱:  鯖魚便當  便當價格:  100\n",
      "**************************************************\n",
      "便當名稱:  雞腿便當  便當價格:  80\n",
      "**************************************************\n",
      "便當名稱:  懷舊排骨菜飯(圓盒)  便當價格:  100\n",
      "**************************************************\n"
     ]
    }
   ],
   "source": [
    "url = 'https://www.railway.gov.tw/tra-tip-web/tip/tip004/tip421/restCode?RestNo=A210' \n",
    "from bs4 import BeautifulSoup\n",
    "import requests\n",
    "\n",
    "r = requests.get(url)\n",
    "soup = BeautifulSoup(r.text,'lxml')\n",
    "\n",
    "ul = soup.find('ul',class_='shop-item') #抓取商品列表\n",
    "\n",
    "#===========下載便當照片===========\n",
    "print(\"下載便當照片中....\")\n",
    "imgs = ul.find_all('img') #抓取img\n",
    "print(\"便當照片張數共: {0} 張\".format(len(imgs))) #抓取img數量\n",
    "i = 1\n",
    "for img in imgs:\n",
    "    link = img['src'] #照片路徑\n",
    "    print(link) \n",
    "    with open(str(i) + '.jpg', 'wb') as  f:\n",
    "        im = requests.get(link)\n",
    "        f.write(im.content)\n",
    "        i+=1\n",
    "print(\"下載完成....\")\n",
    "#===========下載便當照片===========\n",
    "\n",
    "li = ul.find_all('li') #抓取商品名稱與價格\n",
    "print(\"=====台中鐵路便當價目表=====\\n\")\n",
    "for item in li:\n",
    "    title = item.find('div', class_='pro-title')\n",
    "    print('便當名稱: ',title.text,end='')\n",
    "    price = item.find('strong')\n",
    "    print('  便當價格: ',price.text)\n",
    "    print('*'*50)"
   ]
  },
  {
   "cell_type": "code",
   "execution_count": null,
   "id": "c308990e",
   "metadata": {},
   "outputs": [],
   "source": []
  },
  {
   "cell_type": "code",
   "execution_count": null,
   "id": "875996ac",
   "metadata": {},
   "outputs": [],
   "source": []
  }
 ],
 "metadata": {
  "kernelspec": {
   "display_name": "Python 3 (ipykernel)",
   "language": "python",
   "name": "python3"
  },
  "language_info": {
   "codemirror_mode": {
    "name": "ipython",
    "version": 3
   },
   "file_extension": ".py",
   "mimetype": "text/x-python",
   "name": "python",
   "nbconvert_exporter": "python",
   "pygments_lexer": "ipython3",
   "version": "3.9.13"
  }
 },
 "nbformat": 4,
 "nbformat_minor": 5
}
