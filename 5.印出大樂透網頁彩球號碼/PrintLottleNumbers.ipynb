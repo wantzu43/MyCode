{
 "cells": [
  {
   "cell_type": "code",
   "execution_count": 6,
   "id": "674dd038",
   "metadata": {},
   "outputs": [
    {
     "name": "stdout",
     "output_type": "stream",
     "text": [
      "下載中....\n",
      "下載OK!\n",
      "大樂透總共有幾個彩球: 12\n",
      "10 24 06 07 40 29 06 07 10 24 29 40 \n",
      "開出順序:\n",
      "10 24 06 07 40 29 \n",
      "大小順序:\n",
      "06 07 10 24 29 40 \n",
      "特別號:\n",
      "01 \n"
     ]
    }
   ],
   "source": [
    "import bs4,requests,os\n",
    "\n",
    "url = 'https://www.taiwanlottery.com.tw/'\n",
    "r = requests.get(url)\n",
    "print(\"下載中....\")\n",
    "r.raise_for_status()\n",
    "print(\"下載OK!\")\n",
    "\n",
    "soup = bs4.BeautifulSoup(r.text,'lxml')\n",
    "\n",
    "datatags = soup.find_all('div',class_='contents_box02')\n",
    "    \n",
    "\n",
    "balls = datatags[2].find_all('div', class_='ball_tx ball_yellow')\n",
    "print('大樂透總共有幾個彩球:', len(balls))\n",
    "for ball in balls:\n",
    "    print(ball.text, end='')\n",
    "\n",
    "print(\"\\n開出順序:\")\n",
    "for i in range(6):\n",
    "    print(balls[i].text, end='')\n",
    "print(\"\\n大小順序:\")\n",
    "for j in range(6,12):\n",
    "    print(balls[j].text, end='')\n",
    "    \n",
    "#ball_red\n",
    "ballred = datatags[0].find_all('div', class_='ball_red')\n",
    "print(\"\\n特別號:\")\n",
    "print(ballred[0].text)"
   ]
  },
  {
   "cell_type": "code",
   "execution_count": null,
   "id": "3d16a20f",
   "metadata": {},
   "outputs": [],
   "source": []
  }
 ],
 "metadata": {
  "kernelspec": {
   "display_name": "Python 3 (ipykernel)",
   "language": "python",
   "name": "python3"
  },
  "language_info": {
   "codemirror_mode": {
    "name": "ipython",
    "version": 3
   },
   "file_extension": ".py",
   "mimetype": "text/x-python",
   "name": "python",
   "nbconvert_exporter": "python",
   "pygments_lexer": "ipython3",
   "version": "3.9.13"
  }
 },
 "nbformat": 4,
 "nbformat_minor": 5
}
